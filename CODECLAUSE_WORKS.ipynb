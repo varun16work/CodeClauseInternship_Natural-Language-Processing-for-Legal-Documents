{
  "nbformat": 4,
  "nbformat_minor": 0,
  "metadata": {
    "colab": {
      "provenance": []
    },
    "kernelspec": {
      "name": "python3",
      "display_name": "Python 3"
    },
    "language_info": {
      "name": "python"
    }
  },
  "cells": [
    {
      "cell_type": "code",
      "source": [
        "!pip install spacy\n",
        "!pip install transformers\n",
        "!pip install nltk\n",
        "!pip install PyPDF2\n",
        "!pip install python-docx --upgrade"
      ],
      "metadata": {
        "colab": {
          "base_uri": "https://localhost:8080/"
        },
        "id": "pb-PVuDA_pzo",
        "outputId": "93b900ff-7540-4881-f7b1-8018e86591be"
      },
      "execution_count": 9,
      "outputs": [
        {
          "output_type": "stream",
          "name": "stdout",
          "text": [
            "Requirement already satisfied: spacy in /usr/local/lib/python3.10/dist-packages (3.7.5)\n",
            "Requirement already satisfied: spacy-legacy<3.1.0,>=3.0.11 in /usr/local/lib/python3.10/dist-packages (from spacy) (3.0.12)\n",
            "Requirement already satisfied: spacy-loggers<2.0.0,>=1.0.0 in /usr/local/lib/python3.10/dist-packages (from spacy) (1.0.5)\n",
            "Requirement already satisfied: murmurhash<1.1.0,>=0.28.0 in /usr/local/lib/python3.10/dist-packages (from spacy) (1.0.10)\n",
            "Requirement already satisfied: cymem<2.1.0,>=2.0.2 in /usr/local/lib/python3.10/dist-packages (from spacy) (2.0.8)\n",
            "Requirement already satisfied: preshed<3.1.0,>=3.0.2 in /usr/local/lib/python3.10/dist-packages (from spacy) (3.0.9)\n",
            "Requirement already satisfied: thinc<8.3.0,>=8.2.2 in /usr/local/lib/python3.10/dist-packages (from spacy) (8.2.5)\n",
            "Requirement already satisfied: wasabi<1.2.0,>=0.9.1 in /usr/local/lib/python3.10/dist-packages (from spacy) (1.1.3)\n",
            "Requirement already satisfied: srsly<3.0.0,>=2.4.3 in /usr/local/lib/python3.10/dist-packages (from spacy) (2.4.8)\n",
            "Requirement already satisfied: catalogue<2.1.0,>=2.0.6 in /usr/local/lib/python3.10/dist-packages (from spacy) (2.0.10)\n",
            "Requirement already satisfied: weasel<0.5.0,>=0.1.0 in /usr/local/lib/python3.10/dist-packages (from spacy) (0.4.1)\n",
            "Requirement already satisfied: typer<1.0.0,>=0.3.0 in /usr/local/lib/python3.10/dist-packages (from spacy) (0.12.5)\n",
            "Requirement already satisfied: tqdm<5.0.0,>=4.38.0 in /usr/local/lib/python3.10/dist-packages (from spacy) (4.66.6)\n",
            "Requirement already satisfied: requests<3.0.0,>=2.13.0 in /usr/local/lib/python3.10/dist-packages (from spacy) (2.32.3)\n",
            "Requirement already satisfied: pydantic!=1.8,!=1.8.1,<3.0.0,>=1.7.4 in /usr/local/lib/python3.10/dist-packages (from spacy) (2.9.2)\n",
            "Requirement already satisfied: jinja2 in /usr/local/lib/python3.10/dist-packages (from spacy) (3.1.4)\n",
            "Requirement already satisfied: setuptools in /usr/local/lib/python3.10/dist-packages (from spacy) (75.1.0)\n",
            "Requirement already satisfied: packaging>=20.0 in /usr/local/lib/python3.10/dist-packages (from spacy) (24.1)\n",
            "Requirement already satisfied: langcodes<4.0.0,>=3.2.0 in /usr/local/lib/python3.10/dist-packages (from spacy) (3.4.1)\n",
            "Requirement already satisfied: numpy>=1.19.0 in /usr/local/lib/python3.10/dist-packages (from spacy) (1.26.4)\n",
            "Requirement already satisfied: language-data>=1.2 in /usr/local/lib/python3.10/dist-packages (from langcodes<4.0.0,>=3.2.0->spacy) (1.2.0)\n",
            "Requirement already satisfied: annotated-types>=0.6.0 in /usr/local/lib/python3.10/dist-packages (from pydantic!=1.8,!=1.8.1,<3.0.0,>=1.7.4->spacy) (0.7.0)\n",
            "Requirement already satisfied: pydantic-core==2.23.4 in /usr/local/lib/python3.10/dist-packages (from pydantic!=1.8,!=1.8.1,<3.0.0,>=1.7.4->spacy) (2.23.4)\n",
            "Requirement already satisfied: typing-extensions>=4.6.1 in /usr/local/lib/python3.10/dist-packages (from pydantic!=1.8,!=1.8.1,<3.0.0,>=1.7.4->spacy) (4.12.2)\n",
            "Requirement already satisfied: charset-normalizer<4,>=2 in /usr/local/lib/python3.10/dist-packages (from requests<3.0.0,>=2.13.0->spacy) (3.4.0)\n",
            "Requirement already satisfied: idna<4,>=2.5 in /usr/local/lib/python3.10/dist-packages (from requests<3.0.0,>=2.13.0->spacy) (3.10)\n",
            "Requirement already satisfied: urllib3<3,>=1.21.1 in /usr/local/lib/python3.10/dist-packages (from requests<3.0.0,>=2.13.0->spacy) (2.2.3)\n",
            "Requirement already satisfied: certifi>=2017.4.17 in /usr/local/lib/python3.10/dist-packages (from requests<3.0.0,>=2.13.0->spacy) (2024.8.30)\n",
            "Requirement already satisfied: blis<0.8.0,>=0.7.8 in /usr/local/lib/python3.10/dist-packages (from thinc<8.3.0,>=8.2.2->spacy) (0.7.11)\n",
            "Requirement already satisfied: confection<1.0.0,>=0.0.1 in /usr/local/lib/python3.10/dist-packages (from thinc<8.3.0,>=8.2.2->spacy) (0.1.5)\n",
            "Requirement already satisfied: click>=8.0.0 in /usr/local/lib/python3.10/dist-packages (from typer<1.0.0,>=0.3.0->spacy) (8.1.7)\n",
            "Requirement already satisfied: shellingham>=1.3.0 in /usr/local/lib/python3.10/dist-packages (from typer<1.0.0,>=0.3.0->spacy) (1.5.4)\n",
            "Requirement already satisfied: rich>=10.11.0 in /usr/local/lib/python3.10/dist-packages (from typer<1.0.0,>=0.3.0->spacy) (13.9.3)\n",
            "Requirement already satisfied: cloudpathlib<1.0.0,>=0.7.0 in /usr/local/lib/python3.10/dist-packages (from weasel<0.5.0,>=0.1.0->spacy) (0.20.0)\n",
            "Requirement already satisfied: smart-open<8.0.0,>=5.2.1 in /usr/local/lib/python3.10/dist-packages (from weasel<0.5.0,>=0.1.0->spacy) (7.0.5)\n",
            "Requirement already satisfied: MarkupSafe>=2.0 in /usr/local/lib/python3.10/dist-packages (from jinja2->spacy) (3.0.2)\n",
            "Requirement already satisfied: marisa-trie>=0.7.7 in /usr/local/lib/python3.10/dist-packages (from language-data>=1.2->langcodes<4.0.0,>=3.2.0->spacy) (1.2.1)\n",
            "Requirement already satisfied: markdown-it-py>=2.2.0 in /usr/local/lib/python3.10/dist-packages (from rich>=10.11.0->typer<1.0.0,>=0.3.0->spacy) (3.0.0)\n",
            "Requirement already satisfied: pygments<3.0.0,>=2.13.0 in /usr/local/lib/python3.10/dist-packages (from rich>=10.11.0->typer<1.0.0,>=0.3.0->spacy) (2.18.0)\n",
            "Requirement already satisfied: wrapt in /usr/local/lib/python3.10/dist-packages (from smart-open<8.0.0,>=5.2.1->weasel<0.5.0,>=0.1.0->spacy) (1.16.0)\n",
            "Requirement already satisfied: mdurl~=0.1 in /usr/local/lib/python3.10/dist-packages (from markdown-it-py>=2.2.0->rich>=10.11.0->typer<1.0.0,>=0.3.0->spacy) (0.1.2)\n",
            "Requirement already satisfied: transformers in /usr/local/lib/python3.10/dist-packages (4.44.2)\n",
            "Requirement already satisfied: filelock in /usr/local/lib/python3.10/dist-packages (from transformers) (3.16.1)\n",
            "Requirement already satisfied: huggingface-hub<1.0,>=0.23.2 in /usr/local/lib/python3.10/dist-packages (from transformers) (0.24.7)\n",
            "Requirement already satisfied: numpy>=1.17 in /usr/local/lib/python3.10/dist-packages (from transformers) (1.26.4)\n",
            "Requirement already satisfied: packaging>=20.0 in /usr/local/lib/python3.10/dist-packages (from transformers) (24.1)\n",
            "Requirement already satisfied: pyyaml>=5.1 in /usr/local/lib/python3.10/dist-packages (from transformers) (6.0.2)\n",
            "Requirement already satisfied: regex!=2019.12.17 in /usr/local/lib/python3.10/dist-packages (from transformers) (2024.9.11)\n",
            "Requirement already satisfied: requests in /usr/local/lib/python3.10/dist-packages (from transformers) (2.32.3)\n",
            "Requirement already satisfied: safetensors>=0.4.1 in /usr/local/lib/python3.10/dist-packages (from transformers) (0.4.5)\n",
            "Requirement already satisfied: tokenizers<0.20,>=0.19 in /usr/local/lib/python3.10/dist-packages (from transformers) (0.19.1)\n",
            "Requirement already satisfied: tqdm>=4.27 in /usr/local/lib/python3.10/dist-packages (from transformers) (4.66.6)\n",
            "Requirement already satisfied: fsspec>=2023.5.0 in /usr/local/lib/python3.10/dist-packages (from huggingface-hub<1.0,>=0.23.2->transformers) (2024.10.0)\n",
            "Requirement already satisfied: typing-extensions>=3.7.4.3 in /usr/local/lib/python3.10/dist-packages (from huggingface-hub<1.0,>=0.23.2->transformers) (4.12.2)\n",
            "Requirement already satisfied: charset-normalizer<4,>=2 in /usr/local/lib/python3.10/dist-packages (from requests->transformers) (3.4.0)\n",
            "Requirement already satisfied: idna<4,>=2.5 in /usr/local/lib/python3.10/dist-packages (from requests->transformers) (3.10)\n",
            "Requirement already satisfied: urllib3<3,>=1.21.1 in /usr/local/lib/python3.10/dist-packages (from requests->transformers) (2.2.3)\n",
            "Requirement already satisfied: certifi>=2017.4.17 in /usr/local/lib/python3.10/dist-packages (from requests->transformers) (2024.8.30)\n",
            "Requirement already satisfied: nltk in /usr/local/lib/python3.10/dist-packages (3.8.1)\n",
            "Requirement already satisfied: click in /usr/local/lib/python3.10/dist-packages (from nltk) (8.1.7)\n",
            "Requirement already satisfied: joblib in /usr/local/lib/python3.10/dist-packages (from nltk) (1.4.2)\n",
            "Requirement already satisfied: regex>=2021.8.3 in /usr/local/lib/python3.10/dist-packages (from nltk) (2024.9.11)\n",
            "Requirement already satisfied: tqdm in /usr/local/lib/python3.10/dist-packages (from nltk) (4.66.6)\n",
            "Requirement already satisfied: PyPDF2 in /usr/local/lib/python3.10/dist-packages (3.0.1)\n",
            "Requirement already satisfied: python-docx in /usr/local/lib/python3.10/dist-packages (1.1.2)\n",
            "Requirement already satisfied: lxml>=3.1.0 in /usr/local/lib/python3.10/dist-packages (from python-docx) (5.3.0)\n",
            "Requirement already satisfied: typing-extensions>=4.9.0 in /usr/local/lib/python3.10/dist-packages (from python-docx) (4.12.2)\n"
          ]
        }
      ]
    },
    {
      "cell_type": "code",
      "source": [
        "import PyPDF2\n",
        "import docx\n",
        "import spacy\n",
        "from transformers import pipeline\n",
        "import os\n",
        "nlp = spacy.load(\"en_core_web_sm\")\n",
        "summarizer = pipeline(\"summarization\", model=\"facebook/bart-large-cnn\")\n",
        "def read_pdf(file_path):\n",
        "    text = \"\"\n",
        "    with open(file_path, 'rb') as file:\n",
        "        reader = PyPDF2.PdfReader(file)\n",
        "        for page in reader.pages:\n",
        "            text += page.extract_text() + \"\\n\"\n",
        "    return text.strip()\n",
        "def read_docx(file_path):\n",
        "    doc = docx.Document(file_path)\n",
        "    text = \"\"\n",
        "    for paragraph in doc.paragraphs:\n",
        "        text += paragraph.text + \"\\n\"\n",
        "    return text.strip()\n",
        "def preprocess_text(text):\n",
        "    doc = nlp(text)\n",
        "    sentences = [sent.text for sent in doc.sents]\n",
        "    return sentences\n",
        "def extract_entities(text):\n",
        "    doc = nlp(text)\n",
        "    entities = [(entity.text, entity.label_) for entity in doc.ents]\n",
        "    return entities\n",
        "def summarize_text(text):\n",
        "    if len(text) > 1024:\n",
        "        text = text[:1024]\n",
        "    summary = summarizer(text, max_length=150, min_length=40, do_sample=False)\n",
        "    return summary[0]['summary_text']\n",
        "def process_legal_document(text):\n",
        "    sentences = preprocess_text(text)\n",
        "    entities = extract_entities(text)\n",
        "    summary = summarize_text(text)\n",
        "    return {\n",
        "        \"Sentences\": sentences,\n",
        "        \"Entities\": entities,\n",
        "        \"Summary\": summary\n",
        "    }\n",
        "def main():\n",
        "    file_path = input(\"Enter the path of legal file: \")\n",
        "    if not os.path.isfile(file_path):\n",
        "        print(\"Cannot Find!\")\n",
        "        return\n",
        "    _, file_extension = os.path.splitext(file_path)\n",
        "    if file_extension.lower() == '.pdf':\n",
        "        document_text = read_pdf(file_path)\n",
        "    elif file_extension.lower() == '.docx':\n",
        "        document_text = read_docx(file_path)\n",
        "    else:\n",
        "        print(\"Only PDF or MS doc/docx files supported!!!\")\n",
        "        return\n",
        "    result = process_legal_document(document_text)\n",
        "    print(\"Extracted legal sentences:\", result[\"Sentences\"])\n",
        "    print(\"Legal named entities:\", result[\"Entities\"])\n",
        "    print(\"Final Summary:\", result[\"Summary\"])\n",
        "if __name__ == \"__main__\":\n",
        "    main()"
      ],
      "metadata": {
        "colab": {
          "base_uri": "https://localhost:8080/"
        },
        "id": "SLiHSNgpCl5h",
        "outputId": "9f7d4e58-88d4-4d22-ec47-b25ed558b594"
      },
      "execution_count": 10,
      "outputs": [
        {
          "output_type": "stream",
          "name": "stdout",
          "text": [
            "Enter the path of legal file: /content/legal.docx\n",
            "Extracted legal sentences: ['Free legal information disclaimer: cover\\n1.\\t', 'This template legal document was produced and published by Docular Limited.\\n', '2.\\t', 'We control the copyright in this template, and you may only use this template in accordance with the licensing provisions in our terms and conditions.', 'Those licensing provisions include an obligation to retain the attribution / credit incorporated into the template.\\n', '3.\\tYou will need to edit this template before use.', 'Guidance notes to help you do so are set out at the end of the template.', 'During the editing process, you should delete those guidance notes and this cover sheet.', 'Square brackets in the body of the document indicate areas that require editorial attention.', '\"ORs\" in the body of the document indicate alternative provisions.', 'By the end of the editing process, there should be no square brackets left in the body of the document, and only one alternative from each set of alternatives should remain.', 'Elements may be specified as optional in the accompanying notes, but that does not mean that they are in all cases removable.', 'Depending upon the circumstances, an optional element may be: (i) required by law; or (ii) necessary to ensure that the document is internally consistent.\\n', '4.\\t', 'If you have any doubts about the editing or use of this template, you should seek professional legal advice.\\n', '5.\\t', 'You can request a quote for legal services (including the adaptation or review of a legal document produced from this template) using this form: https://docular.net/pages/contact.\\n\\n', 'Legal information disclaimer\\n1.\\t', 'Credit\\n1.1\\tThis document was created using a template from Docular (https://docular.net).\\n', 'You must retain the above credit.', 'Use of this document without the credit is an infringement of copyright.', 'However, you can purchase from us an equivalent document that does not include the credit.\\n', '2.\\t', 'No advice\\n2.1\\tOur website contains general legal information.\\n', '2.2\\tThe legal information is not advice and should not be treated as such.\\n', '3.\\t', 'No warranties\\n3.1\\tThe legal information on our website is provided without any representations or warranties, express or implied.\\n', '3.2\\tWithout limiting the scope of Section 3.1, we do not warrant or represent that the legal information on this website:\\n(a)\\twill be constantly available, or available at all; or\\n(b)\\tis true, accurate, complete, current or non-misleading.\\n', '4.\\t', 'No lawyer-client relationship\\n4.1\\tNo lawyer-client, solicitor-client or attorney-client relationship shall be created through the use of our website.\\n', '5.\\tInteractive features\\n5.1\\t', 'Our website includes interactive features that allow users to communicate with us.\\n', \"5.2\\tYou acknowledge that, because of the limited nature of communication through our website's interactive features, any assistance you may receive using any such features is likely to be incomplete and may even be misleading.\\n\", \"5.3\\tAny assistance you may receive using any our website's interactive features does not constitute specific advice and accordingly should not be relied upon without further independent confirmation.\\n\", '6.\\tProfessional legal assistance and advice\\n6.1\\tYou must not rely on the legal information on our website as an alternative to legal advice from your lawyer or other professional legal services provider.\\n', '6.2\\tIf you have any specific questions about any legal matter, you should consult your lawyer or other professional legal services provider.\\n', '6.3\\tYou should never delay seeking legal advice, disregard legal advice, or commence or discontinue any legal action because of information on our website.\\n', '7.\\tLimits upon exclusions of liability\\n7.1\\tNothing in this disclaimer will:\\n(a)\\tlimit or exclude any liability for death or personal injury resulting from negligence;\\n(b)\\tlimit or exclude any liability for fraud or fraudulent misrepresentation;\\n(c)\\tlimit any liabilities in any way that is not permitted under applicable law; or\\n(d)\\texclude any liabilities that may not be excluded under applicable law.\\n\\n', 'Free legal information disclaimer: drafting notes\\n', 'This is a free version of our legal information disclaimer template.', 'The only difference is the inclusion of an SEQ Legal credit.\\n', 'This disclaimer has been created for websites that publish legal information - eg the websites of lawyers or other legal services organisations.\\n', 'Issues covered include: (i) the distinction between legal information and advice; (ii) the question of when to obtain professional assistance; and (iii) warranty exclusions relating to information.\\n', 'As with all limitations and exclusions of liability, the enforceability of the document may be open to question.\\n', 'Section 1: Credit\\nSection: Free documents licensing warning\\nOptional element.', 'Although you need to retain the credit, you should remove the inline copyright warning from this document before use.\\nSection 5: Interactive features\\nDoes the website include any interactive features through which information or assistance may be provided to users?\\nSection 7: Limits upon exclusions of liability\\nSection 7.1\\nDo not delete this provision (except upon legal advice).', 'Without this provision, the specific limitations and exclusions of liability in the document are more likely to be unenforceable.']\n",
            "Legal named entities: [('1.', 'CARDINAL'), ('Docular Limited', 'ORG'), ('2', 'CARDINAL'), ('3', 'CARDINAL'), ('only one', 'CARDINAL'), ('4', 'CARDINAL'), ('5.', 'CARDINAL'), ('1.', 'CARDINAL'), ('Credit', 'ORG'), ('1.1', 'CARDINAL'), ('Docular', 'PERSON'), ('2.', 'CARDINAL'), ('2.1', 'CARDINAL'), ('2.2', 'CARDINAL'), ('3', 'CARDINAL'), ('3.1', 'CARDINAL'), ('3.2', 'CARDINAL'), ('Section 3.1', 'LAW'), ('4.', 'CARDINAL'), ('4.1', 'CARDINAL'), ('5.', 'CARDINAL'), ('5.1', 'CARDINAL'), ('5.2', 'CARDINAL'), ('5.3', 'CARDINAL'), ('6', 'CARDINAL'), ('6.1', 'CARDINAL'), ('6.2', 'CARDINAL'), ('6.3', 'CARDINAL'), ('7', 'CARDINAL'), ('Limits', 'ORG'), ('7.1', 'CARDINAL'), ('SEQ Legal', 'ORG'), ('Section 1: Credit\\nSection', 'LAW'), ('Optional', 'ORG'), ('Section 5: Interactive', 'LAW'), ('Section 7: Limits', 'LAW'), ('Section 7.1', 'LAW')]\n",
            "Final Summary: You will need to edit this template before use. Guidance notes to help you do so are set out at the end of the template. Square brackets in the body of the document indicate areas that require editorial attention.\n"
          ]
        }
      ]
    }
  ]
}